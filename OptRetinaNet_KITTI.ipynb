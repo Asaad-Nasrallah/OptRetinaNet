{
  "cells": [
    {
      "cell_type": "code",
      "execution_count": null,
      "id": "eeba3f9b",
      "metadata": {
        "id": "eeba3f9b"
      },
      "outputs": [],
      "source": [
        "%cd mmdetection-2.25.3"
      ]
    },
    {
      "cell_type": "code",
      "execution_count": null,
      "id": "d5ab562d",
      "metadata": {
        "id": "d5ab562d"
      },
      "outputs": [],
      "source": [
        "# Check nvcc version\n",
        "!nvcc -V\n",
        "# Check GCC version\n",
        "!gcc --version"
      ]
    },
    {
      "cell_type": "code",
      "execution_count": null,
      "id": "a098bf91",
      "metadata": {
        "id": "a098bf91"
      },
      "outputs": [],
      "source": [
        "from mmcv import collect_env\n",
        "collect_env()"
      ]
    },
    {
      "cell_type": "code",
      "execution_count": null,
      "id": "979dac39",
      "metadata": {
        "id": "979dac39"
      },
      "outputs": [],
      "source": [
        "# Check Pytorch installation\n",
        "import torch, torchvision\n",
        "print(torch.__version__, torch.cuda.is_available())\n",
        "\n",
        "# Check MMDetection installation\n",
        "import mmdet\n",
        "print(mmdet.__version__)\n",
        "\n",
        "# Check mmcv installation\n",
        "from mmcv.ops import get_compiling_cuda_version, get_compiler_version\n",
        "print(get_compiling_cuda_version())\n",
        "print(get_compiler_version())"
      ]
    },
    {
      "cell_type": "code",
      "execution_count": null,
      "id": "7db7a1c6",
      "metadata": {
        "id": "7db7a1c6"
      },
      "outputs": [],
      "source": [
        "import copy\n",
        "import os.path as osp\n",
        "import numpy as np\n",
        "\n",
        "import mmcv\n",
        "\n",
        "from mmdet.datasets.builder import DATASETS\n",
        "from mmdet.datasets.custom import CustomDataset\n",
        "\n",
        "@DATASETS.register_module()\n",
        "class KittiTinyDataset(CustomDataset):\n",
        "\n",
        "    CLASSES = ('Car','Pedestrian', 'Cyclist')\n",
        "\n",
        "    def load_annotations(self, ann_file):\n",
        "        cat2label = {k: i for i, k in enumerate(self.CLASSES)}\n",
        "        # load image list from file\n",
        "        image_list = mmcv.list_from_file(self.ann_file)\n",
        "\n",
        "        data_infos = []\n",
        "        # convert annotations to middle format\n",
        "        for image_id in image_list:\n",
        "            filename = f'{self.img_prefix}/{image_id}.png'\n",
        "            image = mmcv.imread(filename)\n",
        "            height, width = image.shape[:2]\n",
        "\n",
        "            data_info = dict(filename=f'{image_id}.png', width=width, height=height)\n",
        "\n",
        "            # load annotations\n",
        "            label_prefix = self.img_prefix.replace('image_2', 'label_2')\n",
        "            lines = mmcv.list_from_file(osp.join(label_prefix, f'{image_id}.txt'))\n",
        "\n",
        "            content = [line.strip().split(' ') for line in lines]\n",
        "            bbox_names = [x[0] for x in content]\n",
        "            bboxes = [[float(info) for info in x[4:8]] for x in content]\n",
        "\n",
        "            gt_bboxes = []\n",
        "            gt_labels = []\n",
        "            gt_bboxes_ignore = []\n",
        "            gt_labels_ignore = []\n",
        "\n",
        "            # filter 'DontCare'\n",
        "            for bbox_name, bbox in zip(bbox_names, bboxes):\n",
        "                if bbox_name in cat2label:\n",
        "                    gt_labels.append(cat2label[bbox_name])\n",
        "                    gt_bboxes.append(bbox)\n",
        "                else:\n",
        "                    gt_labels_ignore.append(-1)\n",
        "                    gt_bboxes_ignore.append(bbox)\n",
        "\n",
        "            data_anno = dict(\n",
        "                bboxes=np.array(gt_bboxes, dtype=np.float32).reshape(-1, 4),\n",
        "                labels=np.array(gt_labels, dtype=np.longlong),\n",
        "                bboxes_ignore=np.array(gt_bboxes_ignore,\n",
        "                                       dtype=np.float32).reshape(-1, 4),\n",
        "                labels_ignore=np.array(gt_labels_ignore, dtype=np.longlong))\n",
        "\n",
        "            data_info.update(ann=data_anno)\n",
        "            data_infos.append(data_info)\n",
        "\n",
        "        return data_infos"
      ]
    },
    {
      "cell_type": "code",
      "execution_count": null,
      "id": "e0264f12",
      "metadata": {
        "id": "e0264f12"
      },
      "outputs": [],
      "source": [
        "from mmcv import Config\n",
        "cfg = Config.fromfile('./configs/retinanet/retinanet_r50_fpn_2x_coco.py')\n",
        "#another test on ResNet 101\n",
        "#cfg = Config.fromfile('./configs/retinanet/retinanet_r101_fpn_2x_coco.py')"
      ]
    },
    {
      "cell_type": "code",
      "source": [
        "!mkdir checkpoints"
      ],
      "metadata": {
        "id": "XnvP-MPSwc6-"
      },
      "id": "XnvP-MPSwc6-",
      "execution_count": null,
      "outputs": []
    },
    {
      "cell_type": "code",
      "execution_count": null,
      "id": "5d4dd08c",
      "metadata": {
        "id": "5d4dd08c"
      },
      "outputs": [],
      "source": [
        "\n",
        "from mmdet.apis import set_random_seed\n",
        "\n",
        "# Modify dataset type and path\n",
        "cfg.dataset_type = 'KittiTinyDataset'\n",
        "cfg.data_root = '/path/to/KITTI'\n",
        "\n",
        "cfg.data.test.type = 'KittiTinyDataset'\n",
        "cfg.data.test.data_root = '/path/to/KITTI'\n",
        "cfg.data.test.ann_file = 'training/train.txt'\n",
        "cfg.data.test.img_prefix = 'training/image_2'\n",
        "\n",
        "cfg.data.train.type = 'KittiTinyDataset'\n",
        "cfg.data.train.data_root = '/path/to/KITTI'\n",
        "cfg.data.train.ann_file = 'training/train.txt'\n",
        "cfg.data.train.img_prefix = 'training/image_2'\n",
        "\n",
        "cfg.data.val.type = 'KittiTinyDataset'\n",
        "cfg.data.val.data_root = '/path/to/KITTI'\n",
        "cfg.data.val.ann_file = 'training/val.txt'\n",
        "cfg.data.val.img_prefix = 'training/image_2'\n",
        "# modify num classes of the model in box head\n",
        "# car, pedestrian and cyclist\n",
        "cfg.model.bbox_head.num_classes = 3\n",
        "# Set up working dir to save files and logs.\n",
        "cfg.work_dir = './OptRetinaNet'\n",
        "#####################################\n",
        "cfg.load_from =\"/path/to/model\"\n",
        "\n",
        "\n",
        "cfg.lr_config.warmup = None\n",
        "cfg.log_config.interval = 10\n",
        "cfg.optimizer = dict(type='SGD', lr=0.001, momentum=0.9, weight_decay=0.0001)\n",
        "cfg.optimizer_config = dict(grad_clip=None)\n",
        "# learning policy\n",
        "cfg.lr_config = dict(\n",
        "    policy='step',\n",
        "    warmup='linear',\n",
        "    warmup_iters=500,\n",
        "    warmup_ratio=0.001,\n",
        "    step=[7])\n",
        "\n",
        "# Change the evaluation metric since we use customized dataset.\n",
        "cfg.evaluation.metric = 'mAP'\n",
        "# We can set the evaluation interval to reduce the evaluation times\n",
        "cfg.evaluation.interval = 10\n",
        "# We can set the checkpoint saving interval to reduce the storage cost\n",
        "cfg.checkpoint_config.interval = 10\n",
        "cfg.evaluation.iou_thr=[0.5,0.7]\n",
        "cfg.runner.max_epochs=80\n",
        "# Set seed thus the results are more reproducible\n",
        "cfg.seed = 0\n",
        "set_random_seed(0, deterministic=False)\n",
        "cfg.gpu_ids = range(1)\n",
        "cfg.workflow = [('train', 1), ('val', 1)]\n",
        "\n",
        "# We can also use tensorboard to log the training process\n",
        "cfg.log_config.hooks = [\n",
        "    dict(type='TextLoggerHook'),\n",
        "    dict(type='TensorboardLoggerHook')]\n",
        "\n",
        "print(f'Config:\\n{cfg.pretty_text}')\n",
        "\n"
      ]
    },
    {
      "cell_type": "code",
      "execution_count": null,
      "id": "622e9709",
      "metadata": {
        "id": "622e9709"
      },
      "outputs": [],
      "source": [
        "#################### Modification to change anchor parameters #######################\n",
        "cfg.model.bbox_head=dict(\n",
        "        type='RetinaHead',\n",
        "        num_classes=3,\n",
        "        in_channels=256,\n",
        "        stacked_convs=4,\n",
        "        feat_channels=256,\n",
        "        anchor_generator=dict(\n",
        "            type='AnchorGenerator',\n",
        "            #octave_base_scale=4,\n",
        "            #scales_per_octave=3,\n",
        "            scales=[0.3, 0.4, 0.5],\n",
        "            ratios=[0.25, 0.45, 1.0, 2.15,2.85],\n",
        "            strides=[8, 16, 32, 64, 128]),\n",
        "        bbox_coder=dict(\n",
        "            type='DeltaXYWHBBoxCoder',\n",
        "            target_means=[0.0, 0.0, 0.0, 0.0],\n",
        "            target_stds=[1.0, 1.0, 1.0, 1.0]),\n",
        "        loss_cls=dict(\n",
        "            type='FocalLoss',\n",
        "            use_sigmoid=True,\n",
        "            gamma=2.0,\n",
        "            alpha=0.25,\n",
        "            loss_weight=1.0),\n",
        "        loss_bbox=dict(type='L1Loss', loss_weight=1.0))"
      ]
    },
    {
      "cell_type": "code",
      "execution_count": null,
      "id": "39a86ecf-8f33-4d88-901d-619cb8221384",
      "metadata": {
        "id": "39a86ecf-8f33-4d88-901d-619cb8221384"
      },
      "outputs": [],
      "source": [
        "from mmdet.datasets import build_dataset\n",
        "from mmdet.models import build_detector\n",
        "from mmdet.apis import train_detector\n",
        "\n",
        "# Build dataset\n",
        "datasets = [build_dataset(cfg.data.train)]\n",
        "cfg.workflow = [('train', 1), ('val', 1)]\n",
        "if len(cfg.workflow) == 2:\n",
        "\n",
        "    val_dataset = copy.deepcopy(cfg.data.val)\n",
        "    val_dataset.pipeline = cfg.data.train.pipeline\n",
        "    datasets.append(build_dataset(val_dataset))\n",
        "\n",
        "\n",
        "# Build the detector\n",
        "model = build_detector(cfg.model)\n",
        "# Add an attribute for visualization convenience\n",
        "model.CLASSES = datasets[0].CLASSES\n",
        "cfg.device='cuda'\n",
        "\n",
        "# Create work_dir\n",
        "mmcv.mkdir_or_exist(osp.abspath(cfg.work_dir))\n",
        "train_detector(model, datasets, cfg, distributed=False, validate=True)"
      ]
    },
    {
      "cell_type": "code",
      "execution_count": null,
      "id": "421baae1-33af-489c-8b68-f7a600f9e9d0",
      "metadata": {
        "id": "421baae1-33af-489c-8b68-f7a600f9e9d0"
      },
      "outputs": [],
      "source": [
        "from mmdet.apis import inference_detector, show_result_pyplot\n",
        "\n",
        "img = mmcv.imread('/path/to/KITTI/KITTI/training/image_2/000043.png')\n",
        "model.cfg = cfg\n",
        "result = inference_detector(model, img)\n",
        "model.show_result(img,\n",
        "        result,\n",
        "        score_thr=0.27,\n",
        "        show=True,\n",
        "        win_name='result',\n",
        "        bbox_color=(255,0,0),\n",
        "        text_color=(255, 255, 255),\n",
        "        out_file='../images/43.png')"
      ]
    },
    {
      "cell_type": "code",
      "execution_count": null,
      "id": "f636f0e2-22be-497a-a772-f367e87957b2",
      "metadata": {
        "id": "f636f0e2-22be-497a-a772-f367e87957b2"
      },
      "outputs": [],
      "source": [
        "# load tensorboard in colab\n",
        "%load_ext tensorboard\n",
        "\n",
        "# see curves in tensorboard\n",
        "%tensorboard --logdir ./OptRetinaNet\n"
      ]
    },
    {
      "cell_type": "code",
      "execution_count": null,
      "id": "20768b5e-66bd-49d9-8bdf-4752ff51e78f",
      "metadata": {
        "id": "20768b5e-66bd-49d9-8bdf-4752ff51e78f"
      },
      "outputs": [],
      "source": []
    }
  ],
  "metadata": {
    "kernelspec": {
      "display_name": "Python 3 (ipykernel)",
      "language": "python",
      "name": "python3"
    },
    "language_info": {
      "codemirror_mode": {
        "name": "ipython",
        "version": 3
      },
      "file_extension": ".py",
      "mimetype": "text/x-python",
      "name": "python",
      "nbconvert_exporter": "python",
      "pygments_lexer": "ipython3",
      "version": "3.8.19"
    },
    "colab": {
      "provenance": [],
      "toc_visible": true
    }
  },
  "nbformat": 4,
  "nbformat_minor": 5
}